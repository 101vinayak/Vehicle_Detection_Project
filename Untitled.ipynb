{
 "cells": [
  {
   "cell_type": "code",
   "execution_count": 28,
   "metadata": {},
   "outputs": [],
   "source": [
    "import numpy as np\n",
    "from PIL import Image, ImageDraw\n",
    "from keras_preprocessing import image"
   ]
  },
  {
   "cell_type": "code",
   "execution_count": 2,
   "metadata": {},
   "outputs": [],
   "source": [
    "images = []\n",
    "step = 8"
   ]
  },
  {
   "cell_type": "code",
   "execution_count": 4,
   "metadata": {},
   "outputs": [],
   "source": [
    "for\n",
    "\n",
    "images[0].save('pillow_imagedraw.gif',\n",
    "               save_all=True, append_images=images[1:], optimize=False, duration=40, loop=0)\n"
   ]
  },
  {
   "cell_type": "code",
   "execution_count": 5,
   "metadata": {},
   "outputs": [],
   "source": [
    "from pathlib import Path"
   ]
  },
  {
   "cell_type": "code",
   "execution_count": 7,
   "metadata": {},
   "outputs": [],
   "source": [
    "p = Path('Frames/')"
   ]
  },
  {
   "cell_type": "code",
   "execution_count": 32,
   "metadata": {},
   "outputs": [],
   "source": [
    "import PIL\n",
    "image_data = []\n",
    "\n",
    "for image_path in p.glob('*.png'):\n",
    "    \n",
    "    img = image.load_img(image_path)\n",
    "    bgr_image_array = np.asarray(img)\n",
    "    B, G, R = bgr_image_array.T\n",
    "    rgb_image_array = np.array((R, G, B)).T\n",
    "    _image = Image.fromarray(rgb_image_array, mode='RGB')\n",
    "    \n",
    "    image_data.append(_image)"
   ]
  },
  {
   "cell_type": "code",
   "execution_count": 33,
   "metadata": {},
   "outputs": [
    {
     "name": "stdout",
     "output_type": "stream",
     "text": [
      "178\n"
     ]
    }
   ],
   "source": [
    "print(len(image_data))"
   ]
  },
  {
   "cell_type": "code",
   "execution_count": 34,
   "metadata": {},
   "outputs": [],
   "source": [
    "images[0].save('detection.gif',\n",
    "               save_all=True, append_images=image_data[1:], optimize=False, duration=60, loop=0)"
   ]
  },
  {
   "cell_type": "code",
   "execution_count": 18,
   "metadata": {},
   "outputs": [],
   "source": [
    "from PIL import Image, ImageDraw\n",
    "\n",
    "images = []\n",
    "\n",
    "width = 200\n",
    "center = width // 2\n",
    "color_1 = (0, 0, 0)\n",
    "color_2 = (255, 255, 255)\n",
    "max_radius = int(center * 1.5)\n",
    "step = 8\n",
    "\n",
    "for i in range(0, max_radius, step):\n",
    "    im = Image.new('RGB', (width, width), color_1)\n",
    "    draw = ImageDraw.Draw(im)\n",
    "    draw.ellipse((center - i, center - i, center + i, center + i), fill=color_2)\n",
    "    images.append(im)\n",
    "\n",
    "for i in range(0, max_radius, step):\n",
    "    im = Image.new('RGB', (width, width), color_2)\n",
    "    draw = ImageDraw.Draw(im)\n",
    "    draw.ellipse((center - i, center - i, center + i, center + i), fill=color_1)\n",
    "    images.append(im)\n",
    "\n",
    "images[0].save('pillow_imagedraw.gif',\n",
    "               save_all=True, append_images=images[1:], optimize=False, duration=40, loop=0)"
   ]
  },
  {
   "cell_type": "code",
   "execution_count": 24,
   "metadata": {},
   "outputs": [
    {
     "name": "stdout",
     "output_type": "stream",
     "text": [
      "<PIL.Image.Image image mode=RGB size=200x200 at 0x7FB81D9CE7B8>\n"
     ]
    }
   ],
   "source": [
    "print(images[1])"
   ]
  },
  {
   "cell_type": "code",
   "execution_count": null,
   "metadata": {},
   "outputs": [],
   "source": []
  }
 ],
 "metadata": {
  "kernelspec": {
   "display_name": "Python 3",
   "language": "python",
   "name": "python3"
  },
  "language_info": {
   "codemirror_mode": {
    "name": "ipython",
    "version": 3
   },
   "file_extension": ".py",
   "mimetype": "text/x-python",
   "name": "python",
   "nbconvert_exporter": "python",
   "pygments_lexer": "ipython3",
   "version": "3.5.2"
  }
 },
 "nbformat": 4,
 "nbformat_minor": 2
}
